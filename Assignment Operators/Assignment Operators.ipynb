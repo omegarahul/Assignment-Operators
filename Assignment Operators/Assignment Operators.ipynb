{
 "cells": [
  {
   "cell_type": "markdown",
   "id": "5ed554c4-b36f-45cb-85f6-25d375f7a149",
   "metadata": {},
   "source": [
    "# Q1. Calculate the sum, difference, product, and quotient of two numbers."
   ]
  },
  {
   "cell_type": "code",
   "execution_count": 1,
   "id": "bf462a84-bafd-43f9-a9ca-51d2e6ce519e",
   "metadata": {},
   "outputs": [
    {
     "data": {
      "text/plain": [
       "13"
      ]
     },
     "execution_count": 1,
     "metadata": {},
     "output_type": "execute_result"
    }
   ],
   "source": [
    "# Let assign a and b two numbers\n",
    "a = 10\n",
    "b = 3\n",
    "\n",
    "#SUM\n",
    "\n",
    "a+b"
   ]
  },
  {
   "cell_type": "code",
   "execution_count": 2,
   "id": "4a19c6f5-27fe-4e54-b2a7-1c27097f2e21",
   "metadata": {},
   "outputs": [
    {
     "data": {
      "text/plain": [
       "7"
      ]
     },
     "execution_count": 2,
     "metadata": {},
     "output_type": "execute_result"
    }
   ],
   "source": [
    "#Difference\n",
    "a-b"
   ]
  },
  {
   "cell_type": "code",
   "execution_count": 3,
   "id": "847b7c13-e157-41e9-b28c-e4669d366d18",
   "metadata": {},
   "outputs": [
    {
     "data": {
      "text/plain": [
       "30"
      ]
     },
     "execution_count": 3,
     "metadata": {},
     "output_type": "execute_result"
    }
   ],
   "source": [
    "#Product\n",
    "a*b"
   ]
  },
  {
   "cell_type": "code",
   "execution_count": 4,
   "id": "a5030fa8-b902-4a01-9fc0-b78891a336fc",
   "metadata": {},
   "outputs": [
    {
     "data": {
      "text/plain": [
       "3"
      ]
     },
     "execution_count": 4,
     "metadata": {},
     "output_type": "execute_result"
    }
   ],
   "source": [
    "#Quotient\n",
    "a//b"
   ]
  },
  {
   "cell_type": "markdown",
   "id": "edd9f2d9-e1a8-4484-bb6a-fbddfde7dba6",
   "metadata": {},
   "source": [
    "# Q2 Perform various assignment operations on a variable."
   ]
  },
  {
   "cell_type": "code",
   "execution_count": 6,
   "id": "76a0828a-25b3-4936-9afa-e2b8068845cf",
   "metadata": {},
   "outputs": [
    {
     "data": {
      "text/plain": [
       "24"
      ]
     },
     "execution_count": 6,
     "metadata": {},
     "output_type": "execute_result"
    }
   ],
   "source": [
    "#Assignment operator =\n",
    "a = 24\n",
    "a"
   ]
  },
  {
   "cell_type": "code",
   "execution_count": 8,
   "id": "068d09e1-75ee-4bec-842f-591ec4b24227",
   "metadata": {},
   "outputs": [
    {
     "data": {
      "text/plain": [
       "34"
      ]
     },
     "execution_count": 8,
     "metadata": {},
     "output_type": "execute_result"
    }
   ],
   "source": [
    "#Addition assignment +=\n",
    "a += 10\n",
    "a"
   ]
  },
  {
   "cell_type": "code",
   "execution_count": 9,
   "id": "234ac3e2-9178-4eba-a663-6d0cf1bad0b0",
   "metadata": {},
   "outputs": [
    {
     "data": {
      "text/plain": [
       "29"
      ]
     },
     "execution_count": 9,
     "metadata": {},
     "output_type": "execute_result"
    }
   ],
   "source": [
    "#Subtraction assignment -=\n",
    "a -= 5\n",
    "a"
   ]
  },
  {
   "cell_type": "code",
   "execution_count": 10,
   "id": "7fd710ca-d091-4ab4-a487-3e18cedf159c",
   "metadata": {},
   "outputs": [
    {
     "data": {
      "text/plain": [
       "58"
      ]
     },
     "execution_count": 10,
     "metadata": {},
     "output_type": "execute_result"
    }
   ],
   "source": [
    "#Multipication assignment *=\n",
    "a *= 2\n",
    "a"
   ]
  },
  {
   "cell_type": "code",
   "execution_count": 12,
   "id": "bb46c26b-2c47-4c3c-955f-218b8165a30a",
   "metadata": {},
   "outputs": [
    {
     "data": {
      "text/plain": [
       "6.444444444444444"
      ]
     },
     "execution_count": 12,
     "metadata": {},
     "output_type": "execute_result"
    }
   ],
   "source": [
    "#Divison assignment /=\n",
    "a /= 3\n",
    "a"
   ]
  },
  {
   "cell_type": "markdown",
   "id": "29df2263-ef5d-4d29-b6b2-b73ea7145417",
   "metadata": {},
   "source": [
    "# Q3. Compare two numbers and print the results."
   ]
  },
  {
   "cell_type": "code",
   "execution_count": 13,
   "id": "c28389a2-0bfe-4a96-941e-8024b8425670",
   "metadata": {},
   "outputs": [
    {
     "data": {
      "text/plain": [
       "False"
      ]
     },
     "execution_count": 13,
     "metadata": {},
     "output_type": "execute_result"
    }
   ],
   "source": [
    "# let a and b two number\n",
    "a = 5\n",
    "b = 7\n",
    "# equal\n",
    "a == b"
   ]
  },
  {
   "cell_type": "code",
   "execution_count": 14,
   "id": "dead85b2-d1f7-4d03-ab4e-b7b533f247cb",
   "metadata": {},
   "outputs": [
    {
     "data": {
      "text/plain": [
       "True"
      ]
     },
     "execution_count": 14,
     "metadata": {},
     "output_type": "execute_result"
    }
   ],
   "source": [
    "# not equal\n",
    "a != b"
   ]
  },
  {
   "cell_type": "code",
   "execution_count": 17,
   "id": "c5479591-4a74-4756-9292-370cce705ba3",
   "metadata": {},
   "outputs": [
    {
     "data": {
      "text/plain": [
       "False"
      ]
     },
     "execution_count": 17,
     "metadata": {},
     "output_type": "execute_result"
    }
   ],
   "source": [
    "#Greater than\n",
    "a > b"
   ]
  },
  {
   "cell_type": "code",
   "execution_count": 18,
   "id": "7d5fcf6b-85f0-46c0-8374-696f67eae9cd",
   "metadata": {},
   "outputs": [
    {
     "data": {
      "text/plain": [
       "True"
      ]
     },
     "execution_count": 18,
     "metadata": {},
     "output_type": "execute_result"
    }
   ],
   "source": [
    "#Less than\n",
    "a < b"
   ]
  },
  {
   "cell_type": "code",
   "execution_count": 19,
   "id": "6f69c893-737b-4466-9f99-52c58dbf867d",
   "metadata": {},
   "outputs": [
    {
     "data": {
      "text/plain": [
       "False"
      ]
     },
     "execution_count": 19,
     "metadata": {},
     "output_type": "execute_result"
    }
   ],
   "source": [
    "#Greater than equal to\n",
    "a >= b"
   ]
  },
  {
   "cell_type": "code",
   "execution_count": 20,
   "id": "ac269af4-7f14-4845-96d8-a3f11540ed1f",
   "metadata": {},
   "outputs": [
    {
     "data": {
      "text/plain": [
       "True"
      ]
     },
     "execution_count": 20,
     "metadata": {},
     "output_type": "execute_result"
    }
   ],
   "source": [
    "#Less than equal to\n",
    "a <= b"
   ]
  },
  {
   "cell_type": "markdown",
   "id": "36224ecc-ac46-471d-b461-528f25d0c3e1",
   "metadata": {},
   "source": [
    "# Q4. Check conditions using logical operators."
   ]
  },
  {
   "cell_type": "code",
   "execution_count": 22,
   "id": "9b3613eb-d194-4ba3-bdca-c071e457dc6c",
   "metadata": {},
   "outputs": [
    {
     "data": {
      "text/plain": [
       "False"
      ]
     },
     "execution_count": 22,
     "metadata": {},
     "output_type": "execute_result"
    }
   ],
   "source": [
    "# Logical operator And (both should be true)\n",
    "True and False"
   ]
  },
  {
   "cell_type": "code",
   "execution_count": 23,
   "id": "14b730c3-1151-42e5-901c-8fbea3272ee4",
   "metadata": {},
   "outputs": [
    {
     "data": {
      "text/plain": [
       "True"
      ]
     },
     "execution_count": 23,
     "metadata": {},
     "output_type": "execute_result"
    }
   ],
   "source": [
    "True and True"
   ]
  },
  {
   "cell_type": "code",
   "execution_count": 25,
   "id": "d8073d5b-bd5c-46a2-99c7-8d96ae3b7ab9",
   "metadata": {},
   "outputs": [
    {
     "data": {
      "text/plain": [
       "True"
      ]
     },
     "execution_count": 25,
     "metadata": {},
     "output_type": "execute_result"
    }
   ],
   "source": [
    "#Logical operator or(anyone should be true)\n",
    "True or False"
   ]
  },
  {
   "cell_type": "code",
   "execution_count": 26,
   "id": "e733d4d0-eafa-4957-bc32-23c35de7dd65",
   "metadata": {},
   "outputs": [
    {
     "data": {
      "text/plain": [
       "False"
      ]
     },
     "execution_count": 26,
     "metadata": {},
     "output_type": "execute_result"
    }
   ],
   "source": [
    "False or False"
   ]
  },
  {
   "cell_type": "code",
   "execution_count": 29,
   "id": "fcd9c441-a80e-46ed-b199-a658e4e4cf9e",
   "metadata": {},
   "outputs": [
    {
     "data": {
      "text/plain": [
       "True"
      ]
     },
     "execution_count": 29,
     "metadata": {},
     "output_type": "execute_result"
    }
   ],
   "source": [
    "#Logical Not, it reverse the term\n",
    "not False"
   ]
  },
  {
   "cell_type": "code",
   "execution_count": 30,
   "id": "439a862a-4b2c-486c-85ff-2f7f402f0691",
   "metadata": {},
   "outputs": [
    {
     "data": {
      "text/plain": [
       "False"
      ]
     },
     "execution_count": 30,
     "metadata": {},
     "output_type": "execute_result"
    }
   ],
   "source": [
    "not True"
   ]
  },
  {
   "cell_type": "markdown",
   "id": "93dfd930-7a75-4903-9dde-92c59f217618",
   "metadata": {},
   "source": [
    "# Q5. . Check the identity of variables."
   ]
  },
  {
   "cell_type": "code",
   "execution_count": 1,
   "id": "df20309c-c827-4cdf-ba98-532c060cea43",
   "metadata": {},
   "outputs": [
    {
     "data": {
      "text/plain": [
       "False"
      ]
     },
     "execution_count": 1,
     "metadata": {},
     "output_type": "execute_result"
    }
   ],
   "source": [
    "# \"is\" and \"is not\" are identity operators\n",
    "# let a and b two numbers\n",
    "a = 10\n",
    "b = 20\n",
    "a is b"
   ]
  },
  {
   "cell_type": "code",
   "execution_count": 2,
   "id": "4ee97366-bfb7-4df0-9b79-75d0ed85ec60",
   "metadata": {},
   "outputs": [
    {
     "data": {
      "text/plain": [
       "True"
      ]
     },
     "execution_count": 2,
     "metadata": {},
     "output_type": "execute_result"
    }
   ],
   "source": [
    "a is not b"
   ]
  },
  {
   "cell_type": "code",
   "execution_count": 3,
   "id": "3c56c998-9bcc-4d3d-9b25-6db09dde4b5e",
   "metadata": {},
   "outputs": [
    {
     "data": {
      "text/plain": [
       "True"
      ]
     },
     "execution_count": 3,
     "metadata": {},
     "output_type": "execute_result"
    }
   ],
   "source": [
    "c = \"Ram\"\n",
    "d = c\n",
    "d is c"
   ]
  },
  {
   "cell_type": "markdown",
   "id": "9cfd5627-6aff-4678-8a3e-ac6d7284b966",
   "metadata": {},
   "source": [
    "# Q6. Perform bitwise operations on any two integers."
   ]
  },
  {
   "cell_type": "code",
   "execution_count": 4,
   "id": "cee1e4be-697f-49ae-a912-12be91fb2823",
   "metadata": {},
   "outputs": [
    {
     "data": {
      "text/plain": [
       "0"
      ]
     },
     "execution_count": 4,
     "metadata": {},
     "output_type": "execute_result"
    }
   ],
   "source": [
    "# let two integers a and b\n",
    "a = 6\n",
    "b = 8\n",
    "#bitwise and &\n",
    "a & b"
   ]
  },
  {
   "cell_type": "code",
   "execution_count": 5,
   "id": "0dca6639-fe2e-492f-aacb-69e88e08fd32",
   "metadata": {},
   "outputs": [
    {
     "data": {
      "text/plain": [
       "14"
      ]
     },
     "execution_count": 5,
     "metadata": {},
     "output_type": "execute_result"
    }
   ],
   "source": [
    "#bitwise or |\n",
    "a|b"
   ]
  },
  {
   "cell_type": "code",
   "execution_count": 6,
   "id": "69ce1127-a607-4b59-b939-e808b6f15ccb",
   "metadata": {},
   "outputs": [
    {
     "data": {
      "text/plain": [
       "-9"
      ]
     },
     "execution_count": 6,
     "metadata": {},
     "output_type": "execute_result"
    }
   ],
   "source": [
    "#bitwise not \n",
    "~b"
   ]
  },
  {
   "cell_type": "code",
   "execution_count": 7,
   "id": "8df0f8e9-3ca5-427e-bfdf-d26cf31d6950",
   "metadata": {},
   "outputs": [
    {
     "data": {
      "text/plain": [
       "14"
      ]
     },
     "execution_count": 7,
     "metadata": {},
     "output_type": "execute_result"
    }
   ],
   "source": [
    "#bitwise XOR\n",
    "a ^ b"
   ]
  },
  {
   "cell_type": "code",
   "execution_count": 8,
   "id": "a99b0f3d-1d5e-4785-9cec-56cfa1be75d0",
   "metadata": {},
   "outputs": [
    {
     "data": {
      "text/plain": [
       "48"
      ]
     },
     "execution_count": 8,
     "metadata": {},
     "output_type": "execute_result"
    }
   ],
   "source": [
    "#<< left shift\n",
    "a<<3"
   ]
  },
  {
   "cell_type": "code",
   "execution_count": 10,
   "id": "42e06593-12d6-4be2-a6a6-2d5b4fd93908",
   "metadata": {},
   "outputs": [
    {
     "data": {
      "text/plain": [
       "'0b110'"
      ]
     },
     "execution_count": 10,
     "metadata": {},
     "output_type": "execute_result"
    }
   ],
   "source": [
    "bin(a)"
   ]
  },
  {
   "cell_type": "code",
   "execution_count": 11,
   "id": "dedc976d-7014-4ace-a234-319af9a53c3d",
   "metadata": {},
   "outputs": [
    {
     "data": {
      "text/plain": [
       "'0b110000'"
      ]
     },
     "execution_count": 11,
     "metadata": {},
     "output_type": "execute_result"
    }
   ],
   "source": [
    "bin(48)"
   ]
  },
  {
   "cell_type": "code",
   "execution_count": 12,
   "id": "77c79cd4-e1fe-4f11-874c-0c1d314293cc",
   "metadata": {},
   "outputs": [
    {
     "data": {
      "text/plain": [
       "0"
      ]
     },
     "execution_count": 12,
     "metadata": {},
     "output_type": "execute_result"
    }
   ],
   "source": [
    "# << right shift\n",
    "a >> 3"
   ]
  },
  {
   "cell_type": "code",
   "execution_count": 13,
   "id": "23bd07c9-24d8-4607-b3b2-e87412090a2e",
   "metadata": {},
   "outputs": [
    {
     "data": {
      "text/plain": [
       "'0b0'"
      ]
     },
     "execution_count": 13,
     "metadata": {},
     "output_type": "execute_result"
    }
   ],
   "source": [
    "bin(0)"
   ]
  },
  {
   "cell_type": "markdown",
   "id": "a6f2251a-8e78-4ddf-af3b-5a15848b0165",
   "metadata": {},
   "source": [
    "# Q7. Use unary operators to change the sign of a number."
   ]
  },
  {
   "cell_type": "code",
   "execution_count": 16,
   "id": "4d8b1ce7-7588-41da-ba53-144b3427d771",
   "metadata": {},
   "outputs": [
    {
     "data": {
      "text/plain": [
       "-10"
      ]
     },
     "execution_count": 16,
     "metadata": {},
     "output_type": "execute_result"
    }
   ],
   "source": [
    "# let assign a positive integer to x\n",
    "x = 10\n",
    "x = -x #sign change by unary operator(-)\n",
    "x"
   ]
  },
  {
   "cell_type": "markdown",
   "id": "88c136bb-b66b-4383-aab9-3d48051f0ab4",
   "metadata": {},
   "source": [
    "# Q8. Use the ternary operator to assign values based on conditions."
   ]
  },
  {
   "cell_type": "code",
   "execution_count": 18,
   "id": "f5dd9d95-9fc3-4cb7-81dd-65b283472dca",
   "metadata": {},
   "outputs": [
    {
     "name": "stdout",
     "output_type": "stream",
     "text": [
      "Pass\n"
     ]
    }
   ],
   "source": [
    "# Ternary operator requires three operators to get result\n",
    "#let assign Arjun gets marks a, he will pass if his marks greater than 30\n",
    "a = 40\n",
    "if a > 30:\n",
    "    print(\"Pass\")\n",
    "else:\n",
    "    Print(\"Fail\")"
   ]
  },
  {
   "cell_type": "code",
   "execution_count": null,
   "id": "e94b8085-fa8c-4a15-8e63-6adc019b1075",
   "metadata": {},
   "outputs": [],
   "source": []
  }
 ],
 "metadata": {
  "kernelspec": {
   "display_name": "Python 3 (ipykernel)",
   "language": "python",
   "name": "python3"
  },
  "language_info": {
   "codemirror_mode": {
    "name": "ipython",
    "version": 3
   },
   "file_extension": ".py",
   "mimetype": "text/x-python",
   "name": "python",
   "nbconvert_exporter": "python",
   "pygments_lexer": "ipython3",
   "version": "3.10.8"
  }
 },
 "nbformat": 4,
 "nbformat_minor": 5
}
